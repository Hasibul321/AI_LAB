{
  "nbformat": 4,
  "nbformat_minor": 0,
  "metadata": {
    "colab": {
      "provenance": [],
      "authorship_tag": "ABX9TyNFiBYsocJnLihVwMUfztwh",
      "include_colab_link": true
    },
    "kernelspec": {
      "name": "python3",
      "display_name": "Python 3"
    },
    "language_info": {
      "name": "python"
    }
  },
  "cells": [
    {
      "cell_type": "markdown",
      "metadata": {
        "id": "view-in-github",
        "colab_type": "text"
      },
      "source": [
        "<a href=\"https://colab.research.google.com/github/Hasibul321/AI_LAB/blob/main/Mrathon_lab.ipynb\" target=\"_parent\"><img src=\"https://colab.research.google.com/assets/colab-badge.svg\" alt=\"Open In Colab\"/></a>"
      ]
    },
    {
      "cell_type": "code",
      "execution_count": null,
      "metadata": {
        "id": "EXqWjdgeILRW"
      },
      "outputs": [],
      "source": [
        "from tensorflow.keras.layers import Input,Dense,Activation,Conv2D,Flatten,MaxPooling2D\n",
        "from tensorflow.keras.models import Model\n",
        "from tensorflow.keras.utils import to_categorical\n",
        "from tensorflow.keras.applications import vgg16,mobilenet\n",
        "from tensorflow.keras.utils import plot_model\n",
        "import numpy as np\n",
        "from tensorflow.keras.datasets.mnist import load_data\n",
        "import matplotlib.pyplot as plt\n"
      ]
    },
    {
      "cell_type": "markdown",
      "source": [
        "# model building"
      ],
      "metadata": {
        "id": "9LTNSXeAEiPk"
      }
    },
    {
      "cell_type": "code",
      "source": [
        "def nn_model():\n",
        "  inputs = Input((224,224,3))\n",
        "  outputs = Dense(10,activation = 'sigmoid')(inputs)\n",
        "\n",
        "  model = Model(inputs,outputs)\n",
        "  model.summary()\n",
        "  return model\n"
      ],
      "metadata": {
        "id": "omIlPNMNXAcq"
      },
      "execution_count": null,
      "outputs": []
    },
    {
      "cell_type": "markdown",
      "source": [
        "# vgg16 model\n"
      ],
      "metadata": {
        "id": "16Ff209uHyNq"
      }
    },
    {
      "cell_type": "code",
      "source": [
        "def classical_model():\n",
        "  model = vgg16.VGG16()\n",
        "  model.summary()\n",
        "  plot_model(model)\n",
        "  return model"
      ],
      "metadata": {
        "id": "Qecv13k0H4za"
      },
      "execution_count": null,
      "outputs": []
    },
    {
      "cell_type": "code",
      "source": [
        "classical_model()"
      ],
      "metadata": {
        "colab": {
          "base_uri": "https://localhost:8080/"
        },
        "id": "g5QyMA-RRDZE",
        "outputId": "a0c76de7-a6af-43a4-af2b-1fa5699e2302"
      },
      "execution_count": null,
      "outputs": [
        {
          "output_type": "stream",
          "name": "stdout",
          "text": [
            "Model: \"vgg16\"\n",
            "_________________________________________________________________\n",
            " Layer (type)                Output Shape              Param #   \n",
            "=================================================================\n",
            " input_14 (InputLayer)       [(None, 224, 224, 3)]     0         \n",
            "                                                                 \n",
            " block1_conv1 (Conv2D)       (None, 224, 224, 64)      1792      \n",
            "                                                                 \n",
            " block1_conv2 (Conv2D)       (None, 224, 224, 64)      36928     \n",
            "                                                                 \n",
            " block1_pool (MaxPooling2D)  (None, 112, 112, 64)      0         \n",
            "                                                                 \n",
            " block2_conv1 (Conv2D)       (None, 112, 112, 128)     73856     \n",
            "                                                                 \n",
            " block2_conv2 (Conv2D)       (None, 112, 112, 128)     147584    \n",
            "                                                                 \n",
            " block2_pool (MaxPooling2D)  (None, 56, 56, 128)       0         \n",
            "                                                                 \n",
            " block3_conv1 (Conv2D)       (None, 56, 56, 256)       295168    \n",
            "                                                                 \n",
            " block3_conv2 (Conv2D)       (None, 56, 56, 256)       590080    \n",
            "                                                                 \n",
            " block3_conv3 (Conv2D)       (None, 56, 56, 256)       590080    \n",
            "                                                                 \n",
            " block3_pool (MaxPooling2D)  (None, 28, 28, 256)       0         \n",
            "                                                                 \n",
            " block4_conv1 (Conv2D)       (None, 28, 28, 512)       1180160   \n",
            "                                                                 \n",
            " block4_conv2 (Conv2D)       (None, 28, 28, 512)       2359808   \n",
            "                                                                 \n",
            " block4_conv3 (Conv2D)       (None, 28, 28, 512)       2359808   \n",
            "                                                                 \n",
            " block4_pool (MaxPooling2D)  (None, 14, 14, 512)       0         \n",
            "                                                                 \n",
            " block5_conv1 (Conv2D)       (None, 14, 14, 512)       2359808   \n",
            "                                                                 \n",
            " block5_conv2 (Conv2D)       (None, 14, 14, 512)       2359808   \n",
            "                                                                 \n",
            " block5_conv3 (Conv2D)       (None, 14, 14, 512)       2359808   \n",
            "                                                                 \n",
            " block5_pool (MaxPooling2D)  (None, 7, 7, 512)         0         \n",
            "                                                                 \n",
            " flatten (Flatten)           (None, 25088)             0         \n",
            "                                                                 \n",
            " fc1 (Dense)                 (None, 4096)              102764544 \n",
            "                                                                 \n",
            " fc2 (Dense)                 (None, 4096)              16781312  \n",
            "                                                                 \n",
            " predictions (Dense)         (None, 1000)              4097000   \n",
            "                                                                 \n",
            "=================================================================\n",
            "Total params: 138357544 (527.79 MB)\n",
            "Trainable params: 138357544 (527.79 MB)\n",
            "Non-trainable params: 0 (0.00 Byte)\n",
            "_________________________________________________________________\n"
          ]
        },
        {
          "output_type": "execute_result",
          "data": {
            "text/plain": [
              "<keras.src.engine.functional.Functional at 0x7e905e630ca0>"
            ]
          },
          "metadata": {},
          "execution_count": 23
        }
      ]
    },
    {
      "cell_type": "markdown",
      "source": [
        "# building cnn"
      ],
      "metadata": {
        "id": "DHKtjTanNZDa"
      }
    },
    {
      "cell_type": "code",
      "source": [
        "def build_cnn():\n",
        "  inputs = Input((224,224,3))\n",
        "  x = Conv2D(filters = 4,kernel_size = (3,3))(inputs)\n",
        "  outputs = Dense(10,activation = 'sigmoid')(x)\n",
        "\n",
        "  model = Model(inputs,outputs,name = 'simple_cnn')\n",
        "  model.summary()\n",
        "  return model\n"
      ],
      "metadata": {
        "id": "pPy856UWFsAM"
      },
      "execution_count": null,
      "outputs": []
    },
    {
      "cell_type": "markdown",
      "source": [
        "# building a mdoel like vgg16 with the same weights of the main model"
      ],
      "metadata": {
        "id": "7-zZi1gCQVuS"
      }
    },
    {
      "cell_type": "code",
      "source": [
        "def vgg16_model():\n",
        "\n",
        " inputs = Input((224,224,3))\n",
        "\n",
        " x = Conv2D(filters = 64,kernel_size = (3,3),padding =\"same\",activation = \"relu\",name = \"block1_conv1\")(inputs)\n",
        " x = Conv2D(filters = 64,kernel_size = (3,3),padding =\"same\",activation = \"relu\",name = \"block1_conv2\")(x)\n",
        " x = MaxPooling2D(name = \"block1_pool\")(x)\n",
        "\n",
        " x = Conv2D(filters = 128,kernel_size = (3,3),padding =\"same\",activation = \"relu\",name = \"block2_conv1\")(x)\n",
        " x = Conv2D(filters = 128,kernel_size = (3,3),padding =\"same\",activation = \"relu\",name = \"block2_conv2\")(x)\n",
        " x = MaxPooling2D(name = \"block2_pool\")(x)\n",
        "\n",
        " x = Conv2D(filters = 256,kernel_size = (3,3),padding =\"same\",activation = \"relu\",name = \"block3_conv1\")(x)\n",
        " x = Conv2D(filters = 256,kernel_size = (3,3),padding =\"same\",activation = \"relu\",name = \"block3_conv2\")(x)\n",
        " x = Conv2D(filters = 256,kernel_size = (3,3),padding =\"same\",activation = \"relu\",name = \"block3_conv3\")(x)\n",
        " x = MaxPooling2D(name = \"block3_pool\")(x)\n",
        "\n",
        " x = Conv2D(filters = 512,kernel_size = (3,3),padding =\"same\",activation = \"relu\",name = \"block4_conv1\")(x)\n",
        " x = Conv2D(filters = 512,kernel_size = (3,3),padding =\"same\",activation = \"relu\",name = \"block4_conv2\")(x)\n",
        " x = Conv2D(filters = 512,kernel_size = (3,3),padding =\"same\",activation = \"relu\",name = \"block4_conv3\")(x)\n",
        " x = MaxPooling2D(name = \"block4_pool\")(x)\n",
        "\n",
        " x = Conv2D(filters = 512,kernel_size = (3,3),padding =\"same\",activation = \"relu\",name = \"block5_conv1\")(x)\n",
        " x = Conv2D(filters = 512,kernel_size = (3,3),padding =\"same\",activation = \"relu\",name = \"block5_conv2\")(x)\n",
        " x = Conv2D(filters = 512,kernel_size = (3,3),padding =\"same\",activation = \"relu\",name = \"block5_conv3\")(x)\n",
        " x = MaxPooling2D(name = \"block5_pool\")(x)\n",
        "\n",
        " x = Flatten()(x)\n",
        "\n",
        " x = Dense(4096, activation = \"relu\",name = 'fc1')(x)\n",
        " x = Dense(4096, activation = \"relu\",name = 'fc2')(x)\n",
        "\n",
        " outputs = Dense(1000,activation = 'sigmoid',name = 'predictions')(x)\n",
        "\n",
        " model = Model(inputs,outputs,name = 'Like_VGG16')\n",
        " model.summary()\n",
        " return model"
      ],
      "metadata": {
        "id": "Go_VU7UWQU6n"
      },
      "execution_count": null,
      "outputs": []
    },
    {
      "cell_type": "markdown",
      "source": [
        "# weight transfer from vgg16 to Like_VGG16"
      ],
      "metadata": {
        "id": "O1u5lYrcr6_w"
      }
    },
    {
      "cell_type": "code",
      "source": [
        "original_vgg = classical_model()\n",
        "generated_vgg = vgg16_model()\n",
        "\n",
        "\n",
        "for i in range(len(generated_vgg.layers)):\n",
        "  generated_vgg.layers[i].set_weights(original_vgg.layers[i].get_weights())\n",
        "\n",
        "for i, layer in enumerate(generated_vgg.layers):\n",
        "    original_weights = original_vgg.layers[i].get_weights()\n",
        "    generated_weights = layer.get_weights()\n",
        "    if len(original_weights) > 0 and len(generated_weights) > 0:\n",
        "        if np.array_equal(original_weights[0], generated_weights[0]) and np.array_equal(original_weights[1], generated_weights[1]):\n",
        "            print(f\"Weights transferred successfully for layer {layer.name}\")\n",
        "        else:\n",
        "            print(f\"Weights not transferred for layer {layer.name}\")\n",
        "    else:\n",
        "        print(f\"No weights for layer {layer.name}\")\n",
        "\n",
        "\n"
      ],
      "metadata": {
        "colab": {
          "base_uri": "https://localhost:8080/"
        },
        "id": "RrOFz9-W0-sF",
        "outputId": "34cdc8b2-2577-4a1f-a398-48d91a28fd69"
      },
      "execution_count": null,
      "outputs": [
        {
          "output_type": "stream",
          "name": "stdout",
          "text": [
            "Model: \"vgg16\"\n",
            "_________________________________________________________________\n",
            " Layer (type)                Output Shape              Param #   \n",
            "=================================================================\n",
            " input_20 (InputLayer)       [(None, 224, 224, 3)]     0         \n",
            "                                                                 \n",
            " block1_conv1 (Conv2D)       (None, 224, 224, 64)      1792      \n",
            "                                                                 \n",
            " block1_conv2 (Conv2D)       (None, 224, 224, 64)      36928     \n",
            "                                                                 \n",
            " block1_pool (MaxPooling2D)  (None, 112, 112, 64)      0         \n",
            "                                                                 \n",
            " block2_conv1 (Conv2D)       (None, 112, 112, 128)     73856     \n",
            "                                                                 \n",
            " block2_conv2 (Conv2D)       (None, 112, 112, 128)     147584    \n",
            "                                                                 \n",
            " block2_pool (MaxPooling2D)  (None, 56, 56, 128)       0         \n",
            "                                                                 \n",
            " block3_conv1 (Conv2D)       (None, 56, 56, 256)       295168    \n",
            "                                                                 \n",
            " block3_conv2 (Conv2D)       (None, 56, 56, 256)       590080    \n",
            "                                                                 \n",
            " block3_conv3 (Conv2D)       (None, 56, 56, 256)       590080    \n",
            "                                                                 \n",
            " block3_pool (MaxPooling2D)  (None, 28, 28, 256)       0         \n",
            "                                                                 \n",
            " block4_conv1 (Conv2D)       (None, 28, 28, 512)       1180160   \n",
            "                                                                 \n",
            " block4_conv2 (Conv2D)       (None, 28, 28, 512)       2359808   \n",
            "                                                                 \n",
            " block4_conv3 (Conv2D)       (None, 28, 28, 512)       2359808   \n",
            "                                                                 \n",
            " block4_pool (MaxPooling2D)  (None, 14, 14, 512)       0         \n",
            "                                                                 \n",
            " block5_conv1 (Conv2D)       (None, 14, 14, 512)       2359808   \n",
            "                                                                 \n",
            " block5_conv2 (Conv2D)       (None, 14, 14, 512)       2359808   \n",
            "                                                                 \n",
            " block5_conv3 (Conv2D)       (None, 14, 14, 512)       2359808   \n",
            "                                                                 \n",
            " block5_pool (MaxPooling2D)  (None, 7, 7, 512)         0         \n",
            "                                                                 \n",
            " flatten (Flatten)           (None, 25088)             0         \n",
            "                                                                 \n",
            " fc1 (Dense)                 (None, 4096)              102764544 \n",
            "                                                                 \n",
            " fc2 (Dense)                 (None, 4096)              16781312  \n",
            "                                                                 \n",
            " predictions (Dense)         (None, 1000)              4097000   \n",
            "                                                                 \n",
            "=================================================================\n",
            "Total params: 138357544 (527.79 MB)\n",
            "Trainable params: 138357544 (527.79 MB)\n",
            "Non-trainable params: 0 (0.00 Byte)\n",
            "_________________________________________________________________\n",
            "Model: \"Like_VGG16\"\n",
            "_________________________________________________________________\n",
            " Layer (type)                Output Shape              Param #   \n",
            "=================================================================\n",
            " input_21 (InputLayer)       [(None, 224, 224, 3)]     0         \n",
            "                                                                 \n",
            " block1_conv1 (Conv2D)       (None, 224, 224, 64)      1792      \n",
            "                                                                 \n",
            " block1_conv2 (Conv2D)       (None, 224, 224, 64)      36928     \n",
            "                                                                 \n",
            " block1_pool (MaxPooling2D)  (None, 112, 112, 64)      0         \n",
            "                                                                 \n",
            " block2_conv1 (Conv2D)       (None, 112, 112, 128)     73856     \n",
            "                                                                 \n",
            " block2_conv2 (Conv2D)       (None, 112, 112, 128)     147584    \n",
            "                                                                 \n",
            " block2_pool (MaxPooling2D)  (None, 56, 56, 128)       0         \n",
            "                                                                 \n",
            " block3_conv1 (Conv2D)       (None, 56, 56, 256)       295168    \n",
            "                                                                 \n",
            " block3_conv2 (Conv2D)       (None, 56, 56, 256)       590080    \n",
            "                                                                 \n",
            " block3_conv3 (Conv2D)       (None, 56, 56, 256)       590080    \n",
            "                                                                 \n",
            " block3_pool (MaxPooling2D)  (None, 28, 28, 256)       0         \n",
            "                                                                 \n",
            " block4_conv1 (Conv2D)       (None, 28, 28, 512)       1180160   \n",
            "                                                                 \n",
            " block4_conv2 (Conv2D)       (None, 28, 28, 512)       2359808   \n",
            "                                                                 \n",
            " block4_conv3 (Conv2D)       (None, 28, 28, 512)       2359808   \n",
            "                                                                 \n",
            " block4_pool (MaxPooling2D)  (None, 14, 14, 512)       0         \n",
            "                                                                 \n",
            " block5_conv1 (Conv2D)       (None, 14, 14, 512)       2359808   \n",
            "                                                                 \n",
            " block5_conv2 (Conv2D)       (None, 14, 14, 512)       2359808   \n",
            "                                                                 \n",
            " block5_conv3 (Conv2D)       (None, 14, 14, 512)       2359808   \n",
            "                                                                 \n",
            " block5_pool (MaxPooling2D)  (None, 7, 7, 512)         0         \n",
            "                                                                 \n",
            " flatten_9 (Flatten)         (None, 25088)             0         \n",
            "                                                                 \n",
            " fc1 (Dense)                 (None, 4096)              102764544 \n",
            "                                                                 \n",
            " fc2 (Dense)                 (None, 4096)              16781312  \n",
            "                                                                 \n",
            " predictions (Dense)         (None, 1000)              4097000   \n",
            "                                                                 \n",
            "=================================================================\n",
            "Total params: 138357544 (527.79 MB)\n",
            "Trainable params: 138357544 (527.79 MB)\n",
            "Non-trainable params: 0 (0.00 Byte)\n",
            "_________________________________________________________________\n",
            "No weights for layer input_21\n",
            "Weights transferred successfully for layer block1_conv1\n",
            "Weights transferred successfully for layer block1_conv2\n",
            "No weights for layer block1_pool\n",
            "Weights transferred successfully for layer block2_conv1\n",
            "Weights transferred successfully for layer block2_conv2\n",
            "No weights for layer block2_pool\n",
            "Weights transferred successfully for layer block3_conv1\n",
            "Weights transferred successfully for layer block3_conv2\n",
            "Weights transferred successfully for layer block3_conv3\n",
            "No weights for layer block3_pool\n",
            "Weights transferred successfully for layer block4_conv1\n",
            "Weights transferred successfully for layer block4_conv2\n",
            "Weights transferred successfully for layer block4_conv3\n",
            "No weights for layer block4_pool\n",
            "Weights transferred successfully for layer block5_conv1\n",
            "Weights transferred successfully for layer block5_conv2\n",
            "Weights transferred successfully for layer block5_conv3\n",
            "No weights for layer block5_pool\n",
            "No weights for layer flatten_9\n",
            "Weights transferred successfully for layer fc1\n",
            "Weights transferred successfully for layer fc2\n",
            "Weights transferred successfully for layer predictions\n"
          ]
        }
      ]
    },
    {
      "cell_type": "markdown",
      "source": [
        "# custom build vgg model\n"
      ],
      "metadata": {
        "id": "k3nVtDtoK2mi"
      }
    },
    {
      "cell_type": "code",
      "source": [
        "def custom_vgg_model():\n",
        "\n",
        " inputs = Input((224,224,3))\n",
        "\n",
        " x = Conv2D(filters = 64,kernel_size = (3,3),padding =\"same\",activation = \"relu\",name = \"block1_conv1\")(inputs)\n",
        " x = Conv2D(filters = 64,kernel_size = (3,3),padding =\"same\",activation = \"relu\",name = \"block1_conv2\")(x)\n",
        " x = MaxPooling2D(name = \"block1_pool\")(x)\n",
        "\n",
        " x = Conv2D(filters = 128,kernel_size = (3,3),padding =\"same\",activation = \"relu\",name = \"block2_conv1\")(x)\n",
        " x = Conv2D(filters = 128,kernel_size = (3,3),padding =\"same\",activation = \"relu\",name = \"block2_conv2\")(x)\n",
        " x = MaxPooling2D(name = \"block2_pool\")(x)\n",
        "\n",
        " x = Conv2D(filters = 256,kernel_size = (3,3),padding =\"same\",activation = \"relu\",name = \"block3_conv1\")(x)\n",
        " x = Conv2D(filters = 256,kernel_size = (3,3),padding =\"same\",activation = \"relu\",name = \"block3_conv2\")(x)\n",
        " x = MaxPooling2D(name = \"block3_pool\")(x)\n",
        "\n",
        " x = Conv2D(filters = 512,kernel_size = (3,3),padding =\"same\",activation = \"relu\",name = \"block4_conv1\")(x)\n",
        " x = Conv2D(filters = 512,kernel_size = (3,3),padding =\"same\",activation = \"relu\",name = \"block4_conv2\")(x)\n",
        " x = MaxPooling2D(name = \"block4_pool\")(x)\n",
        "\n",
        " x = Conv2D(filters = 512,kernel_size = (3,3),padding =\"same\",activation = \"relu\",name = \"block5_conv1\")(x)\n",
        " x = Conv2D(filters = 512,kernel_size = (3,3),padding =\"same\",activation = \"relu\",name = \"block5_conv2\")(x)\n",
        " x = MaxPooling2D(name = \"block5_pool\")(x)\n",
        "\n",
        " x = Flatten()(x)\n",
        "\n",
        " x = Dense(4096, activation = \"relu\",name = 'fc1')(x)\n",
        "\n",
        " outputs = Dense(1000,activation = 'sigmoid',name = 'predictions')(x)\n",
        "\n",
        " model = Model(inputs,outputs,name = 'Customize_vgg')\n",
        " model.summary()\n",
        " return model"
      ],
      "metadata": {
        "id": "Xr7UC0wqK7FB"
      },
      "execution_count": null,
      "outputs": []
    },
    {
      "cell_type": "markdown",
      "source": [
        "# weight transfer from vgg16 to customized vgg model\n"
      ],
      "metadata": {
        "id": "kxKJmVKRvwec"
      }
    },
    {
      "cell_type": "code",
      "source": [
        "custom_model = custom_vgg_model()\n",
        "\n",
        "custom_model.layers[0].set_weights(original_vgg.layers[0].get_weights())\n",
        "custom_model.layers[1].set_weights(original_vgg.layers[1].get_weights())\n",
        "custom_model.layers[2].set_weights(original_vgg.layers[2].get_weights())\n",
        "custom_model.layers[3].set_weights(original_vgg.layers[3].get_weights())\n",
        "custom_model.layers[4].set_weights(original_vgg.layers[4].get_weights())\n",
        "custom_model.layers[5].set_weights(original_vgg.layers[5].get_weights())\n",
        "custom_model.layers[6].set_weights(original_vgg.layers[6].get_weights())\n",
        "custom_model.layers[7].set_weights(original_vgg.layers[7].get_weights())\n",
        "custom_model.layers[8].set_weights(original_vgg.layers[8].get_weights())\n",
        "\n",
        "custom_model.layers[9].set_weights(original_vgg.layers[10].get_weights())\n",
        "custom_model.layers[10].set_weights(original_vgg.layers[11].get_weights())\n",
        "custom_model.layers[11].set_weights(original_vgg.layers[12].get_weights())\n",
        "custom_model.layers[12].set_weights(original_vgg.layers[14].get_weights())\n",
        "custom_model.layers[13].set_weights(original_vgg.layers[15].get_weights())\n",
        "custom_model.layers[14].set_weights(original_vgg.layers[16].get_weights())\n",
        "custom_model.layers[15].set_weights(original_vgg.layers[18].get_weights())\n",
        "custom_model.layers[16].set_weights(original_vgg.layers[19].get_weights())\n",
        "custom_model.layers[17].set_weights(original_vgg.layers[20].get_weights())\n",
        "custom_model.layers[18].set_weights(original_vgg.layers[22].get_weights())\n",
        "\n"
      ],
      "metadata": {
        "colab": {
          "base_uri": "https://localhost:8080/"
        },
        "id": "6lOGS5MULVoe",
        "outputId": "893d122e-e1c7-4e6e-fa8c-f465bbb2ced6"
      },
      "execution_count": null,
      "outputs": [
        {
          "output_type": "stream",
          "name": "stdout",
          "text": [
            "Model: \"Customize_vgg\"\n",
            "_________________________________________________________________\n",
            " Layer (type)                Output Shape              Param #   \n",
            "=================================================================\n",
            " input_29 (InputLayer)       [(None, 224, 224, 3)]     0         \n",
            "                                                                 \n",
            " block1_conv1 (Conv2D)       (None, 224, 224, 64)      1792      \n",
            "                                                                 \n",
            " block1_conv2 (Conv2D)       (None, 224, 224, 64)      36928     \n",
            "                                                                 \n",
            " block1_pool (MaxPooling2D)  (None, 112, 112, 64)      0         \n",
            "                                                                 \n",
            " block2_conv1 (Conv2D)       (None, 112, 112, 128)     73856     \n",
            "                                                                 \n",
            " block2_conv2 (Conv2D)       (None, 112, 112, 128)     147584    \n",
            "                                                                 \n",
            " block2_pool (MaxPooling2D)  (None, 56, 56, 128)       0         \n",
            "                                                                 \n",
            " block3_conv1 (Conv2D)       (None, 56, 56, 256)       295168    \n",
            "                                                                 \n",
            " block3_conv2 (Conv2D)       (None, 56, 56, 256)       590080    \n",
            "                                                                 \n",
            " block3_pool (MaxPooling2D)  (None, 28, 28, 256)       0         \n",
            "                                                                 \n",
            " block4_conv1 (Conv2D)       (None, 28, 28, 512)       1180160   \n",
            "                                                                 \n",
            " block4_conv2 (Conv2D)       (None, 28, 28, 512)       2359808   \n",
            "                                                                 \n",
            " block4_pool (MaxPooling2D)  (None, 14, 14, 512)       0         \n",
            "                                                                 \n",
            " block5_conv1 (Conv2D)       (None, 14, 14, 512)       2359808   \n",
            "                                                                 \n",
            " block5_conv2 (Conv2D)       (None, 14, 14, 512)       2359808   \n",
            "                                                                 \n",
            " block5_pool (MaxPooling2D)  (None, 7, 7, 512)         0         \n",
            "                                                                 \n",
            " flatten_16 (Flatten)        (None, 25088)             0         \n",
            "                                                                 \n",
            " fc1 (Dense)                 (None, 4096)              102764544 \n",
            "                                                                 \n",
            " predictions (Dense)         (None, 1000)              4097000   \n",
            "                                                                 \n",
            "=================================================================\n",
            "Total params: 116266536 (443.52 MB)\n",
            "Trainable params: 116266536 (443.52 MB)\n",
            "Non-trainable params: 0 (0.00 Byte)\n",
            "_________________________________________________________________\n"
          ]
        }
      ]
    }
  ]
}