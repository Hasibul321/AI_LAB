{
  "nbformat": 4,
  "nbformat_minor": 0,
  "metadata": {
    "colab": {
      "provenance": [],
      "authorship_tag": "ABX9TyPw+JyC6emQ2IcIawKMJ8aq",
      "include_colab_link": true
    },
    "kernelspec": {
      "name": "python3",
      "display_name": "Python 3"
    },
    "language_info": {
      "name": "python"
    }
  },
  "cells": [
    {
      "cell_type": "markdown",
      "metadata": {
        "id": "view-in-github",
        "colab_type": "text"
      },
      "source": [
        "<a href=\"https://colab.research.google.com/github/Hasibul321/AI_LAB/blob/main/1810576148_assignment2.ipynb\" target=\"_parent\"><img src=\"https://colab.research.google.com/assets/colab-badge.svg\" alt=\"Open In Colab\"/></a>"
      ]
    },
    {
      "cell_type": "markdown",
      "source": [
        "# Importing necessary modules"
      ],
      "metadata": {
        "id": "Whz0494Cxv87"
      }
    },
    {
      "cell_type": "code",
      "execution_count": 11,
      "metadata": {
        "id": "EXqWjdgeILRW"
      },
      "outputs": [],
      "source": [
        "from tensorflow.keras.layers import Input,Dense,Activation,Conv2D,Flatten,MaxPooling2D\n",
        "from tensorflow.keras.models import Model\n",
        "from tensorflow.keras.utils import to_categorical\n",
        "from tensorflow.keras.applications import vgg16\n",
        "import numpy as np\n",
        "from tensorflow.keras.datasets.mnist import load_data\n"
      ]
    },
    {
      "cell_type": "markdown",
      "source": [
        "# vgg16 model\n"
      ],
      "metadata": {
        "id": "16Ff209uHyNq"
      }
    },
    {
      "cell_type": "code",
      "source": [
        "def classical_model():\n",
        "  model = vgg16.VGG16()\n",
        "  model.summary()\n",
        "  return model"
      ],
      "metadata": {
        "id": "Qecv13k0H4za"
      },
      "execution_count": 12,
      "outputs": []
    },
    {
      "cell_type": "code",
      "source": [
        "classical_model()"
      ],
      "metadata": {
        "colab": {
          "base_uri": "https://localhost:8080/"
        },
        "id": "g5QyMA-RRDZE",
        "outputId": "4cc9ad1e-a408-49f1-a6df-843072a0a44e"
      },
      "execution_count": 13,
      "outputs": [
        {
          "output_type": "stream",
          "name": "stdout",
          "text": [
            "Model: \"vgg16\"\n",
            "_________________________________________________________________\n",
            " Layer (type)                Output Shape              Param #   \n",
            "=================================================================\n",
            " input_6 (InputLayer)        [(None, 224, 224, 3)]     0         \n",
            "                                                                 \n",
            " block1_conv1 (Conv2D)       (None, 224, 224, 64)      1792      \n",
            "                                                                 \n",
            " block1_conv2 (Conv2D)       (None, 224, 224, 64)      36928     \n",
            "                                                                 \n",
            " block1_pool (MaxPooling2D)  (None, 112, 112, 64)      0         \n",
            "                                                                 \n",
            " block2_conv1 (Conv2D)       (None, 112, 112, 128)     73856     \n",
            "                                                                 \n",
            " block2_conv2 (Conv2D)       (None, 112, 112, 128)     147584    \n",
            "                                                                 \n",
            " block2_pool (MaxPooling2D)  (None, 56, 56, 128)       0         \n",
            "                                                                 \n",
            " block3_conv1 (Conv2D)       (None, 56, 56, 256)       295168    \n",
            "                                                                 \n",
            " block3_conv2 (Conv2D)       (None, 56, 56, 256)       590080    \n",
            "                                                                 \n",
            " block3_conv3 (Conv2D)       (None, 56, 56, 256)       590080    \n",
            "                                                                 \n",
            " block3_pool (MaxPooling2D)  (None, 28, 28, 256)       0         \n",
            "                                                                 \n",
            " block4_conv1 (Conv2D)       (None, 28, 28, 512)       1180160   \n",
            "                                                                 \n",
            " block4_conv2 (Conv2D)       (None, 28, 28, 512)       2359808   \n",
            "                                                                 \n",
            " block4_conv3 (Conv2D)       (None, 28, 28, 512)       2359808   \n",
            "                                                                 \n",
            " block4_pool (MaxPooling2D)  (None, 14, 14, 512)       0         \n",
            "                                                                 \n",
            " block5_conv1 (Conv2D)       (None, 14, 14, 512)       2359808   \n",
            "                                                                 \n",
            " block5_conv2 (Conv2D)       (None, 14, 14, 512)       2359808   \n",
            "                                                                 \n",
            " block5_conv3 (Conv2D)       (None, 14, 14, 512)       2359808   \n",
            "                                                                 \n",
            " block5_pool (MaxPooling2D)  (None, 7, 7, 512)         0         \n",
            "                                                                 \n",
            " flatten (Flatten)           (None, 25088)             0         \n",
            "                                                                 \n",
            " fc1 (Dense)                 (None, 4096)              102764544 \n",
            "                                                                 \n",
            " fc2 (Dense)                 (None, 4096)              16781312  \n",
            "                                                                 \n",
            " predictions (Dense)         (None, 1000)              4097000   \n",
            "                                                                 \n",
            "=================================================================\n",
            "Total params: 138357544 (527.79 MB)\n",
            "Trainable params: 138357544 (527.79 MB)\n",
            "Non-trainable params: 0 (0.00 Byte)\n",
            "_________________________________________________________________\n"
          ]
        },
        {
          "output_type": "execute_result",
          "data": {
            "text/plain": [
              "<keras.src.engine.functional.Functional at 0x7cd1d4384580>"
            ]
          },
          "metadata": {},
          "execution_count": 13
        }
      ]
    },
    {
      "cell_type": "markdown",
      "source": [
        "# building a mdoel like vgg16 with the same weights of the main model"
      ],
      "metadata": {
        "id": "7-zZi1gCQVuS"
      }
    },
    {
      "cell_type": "code",
      "source": [
        "def vgg16_model():\n",
        "\n",
        " inputs = Input((224,224,3))\n",
        "\n",
        " x = Conv2D(filters = 64,kernel_size = (3,3),padding =\"same\",activation = \"relu\",name = \"block1_conv1\")(inputs)\n",
        " x = Conv2D(filters = 64,kernel_size = (3,3),padding =\"same\",activation = \"relu\",name = \"block1_conv2\")(x)\n",
        " x = MaxPooling2D(name = \"block1_pool\")(x)\n",
        "\n",
        " x = Conv2D(filters = 128,kernel_size = (3,3),padding =\"same\",activation = \"relu\",name = \"block2_conv1\")(x)\n",
        " x = Conv2D(filters = 128,kernel_size = (3,3),padding =\"same\",activation = \"relu\",name = \"block2_conv2\")(x)\n",
        " x = MaxPooling2D(name = \"block2_pool\")(x)\n",
        "\n",
        " x = Conv2D(filters = 256,kernel_size = (3,3),padding =\"same\",activation = \"relu\",name = \"block3_conv1\")(x)\n",
        " x = Conv2D(filters = 256,kernel_size = (3,3),padding =\"same\",activation = \"relu\",name = \"block3_conv2\")(x)\n",
        " x = Conv2D(filters = 256,kernel_size = (3,3),padding =\"same\",activation = \"relu\",name = \"block3_conv3\")(x)\n",
        " x = MaxPooling2D(name = \"block3_pool\")(x)\n",
        "\n",
        " x = Conv2D(filters = 512,kernel_size = (3,3),padding =\"same\",activation = \"relu\",name = \"block4_conv1\")(x)\n",
        " x = Conv2D(filters = 512,kernel_size = (3,3),padding =\"same\",activation = \"relu\",name = \"block4_conv2\")(x)\n",
        " x = Conv2D(filters = 512,kernel_size = (3,3),padding =\"same\",activation = \"relu\",name = \"block4_conv3\")(x)\n",
        " x = MaxPooling2D(name = \"block4_pool\")(x)\n",
        "\n",
        " x = Conv2D(filters = 512,kernel_size = (3,3),padding =\"same\",activation = \"relu\",name = \"block5_conv1\")(x)\n",
        " x = Conv2D(filters = 512,kernel_size = (3,3),padding =\"same\",activation = \"relu\",name = \"block5_conv2\")(x)\n",
        " x = Conv2D(filters = 512,kernel_size = (3,3),padding =\"same\",activation = \"relu\",name = \"block5_conv3\")(x)\n",
        " x = MaxPooling2D(name = \"block5_pool\")(x)\n",
        "\n",
        " x = Flatten()(x)\n",
        "\n",
        " x = Dense(4096, activation = \"relu\",name = 'fc1')(x)\n",
        " x = Dense(4096, activation = \"relu\",name = 'fc2')(x)\n",
        "\n",
        " outputs = Dense(1000,activation = 'sigmoid',name = 'predictions')(x)\n",
        "\n",
        " model = Model(inputs,outputs,name = 'Like_VGG16')\n",
        " model.summary()\n",
        " return model"
      ],
      "metadata": {
        "id": "Go_VU7UWQU6n"
      },
      "execution_count": 14,
      "outputs": []
    },
    {
      "cell_type": "markdown",
      "source": [
        "# weight transfer from vgg16 to Like_VGG16"
      ],
      "metadata": {
        "id": "O1u5lYrcr6_w"
      }
    },
    {
      "cell_type": "code",
      "source": [
        "original_vgg = classical_model()\n",
        "generated_vgg = vgg16_model()\n",
        "\n",
        "\n",
        "for i in range(len(generated_vgg.layers)):\n",
        "  generated_vgg.layers[i].set_weights(original_vgg.layers[i].get_weights())\n",
        "\n",
        "for i, layer in enumerate(generated_vgg.layers):\n",
        "    original_weights = original_vgg.layers[i].get_weights()\n",
        "    generated_weights = layer.get_weights()\n",
        "    if len(original_weights) > 0 and len(generated_weights) > 0:\n",
        "        if np.array_equal(original_weights[0], generated_weights[0]) and np.array_equal(original_weights[1], generated_weights[1]):\n",
        "            print(f\"Weights transferred successfully for layer {layer.name}\")\n",
        "        else:\n",
        "            print(f\"Weights not transferred for layer {layer.name}\")\n",
        "    else:\n",
        "        print(f\"No weights for layer {layer.name}\")\n",
        "\n",
        "\n"
      ],
      "metadata": {
        "colab": {
          "base_uri": "https://localhost:8080/"
        },
        "id": "RrOFz9-W0-sF",
        "outputId": "0142789f-b50b-440e-b47f-efd4d34b5551"
      },
      "execution_count": 15,
      "outputs": [
        {
          "output_type": "stream",
          "name": "stdout",
          "text": [
            "Model: \"vgg16\"\n",
            "_________________________________________________________________\n",
            " Layer (type)                Output Shape              Param #   \n",
            "=================================================================\n",
            " input_7 (InputLayer)        [(None, 224, 224, 3)]     0         \n",
            "                                                                 \n",
            " block1_conv1 (Conv2D)       (None, 224, 224, 64)      1792      \n",
            "                                                                 \n",
            " block1_conv2 (Conv2D)       (None, 224, 224, 64)      36928     \n",
            "                                                                 \n",
            " block1_pool (MaxPooling2D)  (None, 112, 112, 64)      0         \n",
            "                                                                 \n",
            " block2_conv1 (Conv2D)       (None, 112, 112, 128)     73856     \n",
            "                                                                 \n",
            " block2_conv2 (Conv2D)       (None, 112, 112, 128)     147584    \n",
            "                                                                 \n",
            " block2_pool (MaxPooling2D)  (None, 56, 56, 128)       0         \n",
            "                                                                 \n",
            " block3_conv1 (Conv2D)       (None, 56, 56, 256)       295168    \n",
            "                                                                 \n",
            " block3_conv2 (Conv2D)       (None, 56, 56, 256)       590080    \n",
            "                                                                 \n",
            " block3_conv3 (Conv2D)       (None, 56, 56, 256)       590080    \n",
            "                                                                 \n",
            " block3_pool (MaxPooling2D)  (None, 28, 28, 256)       0         \n",
            "                                                                 \n",
            " block4_conv1 (Conv2D)       (None, 28, 28, 512)       1180160   \n",
            "                                                                 \n",
            " block4_conv2 (Conv2D)       (None, 28, 28, 512)       2359808   \n",
            "                                                                 \n",
            " block4_conv3 (Conv2D)       (None, 28, 28, 512)       2359808   \n",
            "                                                                 \n",
            " block4_pool (MaxPooling2D)  (None, 14, 14, 512)       0         \n",
            "                                                                 \n",
            " block5_conv1 (Conv2D)       (None, 14, 14, 512)       2359808   \n",
            "                                                                 \n",
            " block5_conv2 (Conv2D)       (None, 14, 14, 512)       2359808   \n",
            "                                                                 \n",
            " block5_conv3 (Conv2D)       (None, 14, 14, 512)       2359808   \n",
            "                                                                 \n",
            " block5_pool (MaxPooling2D)  (None, 7, 7, 512)         0         \n",
            "                                                                 \n",
            " flatten (Flatten)           (None, 25088)             0         \n",
            "                                                                 \n",
            " fc1 (Dense)                 (None, 4096)              102764544 \n",
            "                                                                 \n",
            " fc2 (Dense)                 (None, 4096)              16781312  \n",
            "                                                                 \n",
            " predictions (Dense)         (None, 1000)              4097000   \n",
            "                                                                 \n",
            "=================================================================\n",
            "Total params: 138357544 (527.79 MB)\n",
            "Trainable params: 138357544 (527.79 MB)\n",
            "Non-trainable params: 0 (0.00 Byte)\n",
            "_________________________________________________________________\n",
            "Model: \"Like_VGG16\"\n",
            "_________________________________________________________________\n",
            " Layer (type)                Output Shape              Param #   \n",
            "=================================================================\n",
            " input_8 (InputLayer)        [(None, 224, 224, 3)]     0         \n",
            "                                                                 \n",
            " block1_conv1 (Conv2D)       (None, 224, 224, 64)      1792      \n",
            "                                                                 \n",
            " block1_conv2 (Conv2D)       (None, 224, 224, 64)      36928     \n",
            "                                                                 \n",
            " block1_pool (MaxPooling2D)  (None, 112, 112, 64)      0         \n",
            "                                                                 \n",
            " block2_conv1 (Conv2D)       (None, 112, 112, 128)     73856     \n",
            "                                                                 \n",
            " block2_conv2 (Conv2D)       (None, 112, 112, 128)     147584    \n",
            "                                                                 \n",
            " block2_pool (MaxPooling2D)  (None, 56, 56, 128)       0         \n",
            "                                                                 \n",
            " block3_conv1 (Conv2D)       (None, 56, 56, 256)       295168    \n",
            "                                                                 \n",
            " block3_conv2 (Conv2D)       (None, 56, 56, 256)       590080    \n",
            "                                                                 \n",
            " block3_conv3 (Conv2D)       (None, 56, 56, 256)       590080    \n",
            "                                                                 \n",
            " block3_pool (MaxPooling2D)  (None, 28, 28, 256)       0         \n",
            "                                                                 \n",
            " block4_conv1 (Conv2D)       (None, 28, 28, 512)       1180160   \n",
            "                                                                 \n",
            " block4_conv2 (Conv2D)       (None, 28, 28, 512)       2359808   \n",
            "                                                                 \n",
            " block4_conv3 (Conv2D)       (None, 28, 28, 512)       2359808   \n",
            "                                                                 \n",
            " block4_pool (MaxPooling2D)  (None, 14, 14, 512)       0         \n",
            "                                                                 \n",
            " block5_conv1 (Conv2D)       (None, 14, 14, 512)       2359808   \n",
            "                                                                 \n",
            " block5_conv2 (Conv2D)       (None, 14, 14, 512)       2359808   \n",
            "                                                                 \n",
            " block5_conv3 (Conv2D)       (None, 14, 14, 512)       2359808   \n",
            "                                                                 \n",
            " block5_pool (MaxPooling2D)  (None, 7, 7, 512)         0         \n",
            "                                                                 \n",
            " flatten_3 (Flatten)         (None, 25088)             0         \n",
            "                                                                 \n",
            " fc1 (Dense)                 (None, 4096)              102764544 \n",
            "                                                                 \n",
            " fc2 (Dense)                 (None, 4096)              16781312  \n",
            "                                                                 \n",
            " predictions (Dense)         (None, 1000)              4097000   \n",
            "                                                                 \n",
            "=================================================================\n",
            "Total params: 138357544 (527.79 MB)\n",
            "Trainable params: 138357544 (527.79 MB)\n",
            "Non-trainable params: 0 (0.00 Byte)\n",
            "_________________________________________________________________\n",
            "No weights for layer input_8\n",
            "Weights transferred successfully for layer block1_conv1\n",
            "Weights transferred successfully for layer block1_conv2\n",
            "No weights for layer block1_pool\n",
            "Weights transferred successfully for layer block2_conv1\n",
            "Weights transferred successfully for layer block2_conv2\n",
            "No weights for layer block2_pool\n",
            "Weights transferred successfully for layer block3_conv1\n",
            "Weights transferred successfully for layer block3_conv2\n",
            "Weights transferred successfully for layer block3_conv3\n",
            "No weights for layer block3_pool\n",
            "Weights transferred successfully for layer block4_conv1\n",
            "Weights transferred successfully for layer block4_conv2\n",
            "Weights transferred successfully for layer block4_conv3\n",
            "No weights for layer block4_pool\n",
            "Weights transferred successfully for layer block5_conv1\n",
            "Weights transferred successfully for layer block5_conv2\n",
            "Weights transferred successfully for layer block5_conv3\n",
            "No weights for layer block5_pool\n",
            "No weights for layer flatten_3\n",
            "Weights transferred successfully for layer fc1\n",
            "Weights transferred successfully for layer fc2\n",
            "Weights transferred successfully for layer predictions\n"
          ]
        }
      ]
    },
    {
      "cell_type": "markdown",
      "source": [
        "# custom build vgg model\n"
      ],
      "metadata": {
        "id": "k3nVtDtoK2mi"
      }
    },
    {
      "cell_type": "code",
      "source": [
        "def custom_vgg_model():\n",
        "\n",
        " inputs = Input((224,224,3))\n",
        "\n",
        " x = Conv2D(filters = 32,kernel_size = (3,3),padding =\"same\",activation = \"relu\")(inputs)\n",
        " x = Conv2D(filters = 32,kernel_size = (3,3),padding =\"same\",activation = \"relu\")(x)\n",
        " x = MaxPooling2D(name = \"block1_pool\")(x)\n",
        "\n",
        " x = Conv2D(filters = 64,kernel_size = (3,3),padding =\"same\",activation = \"relu\")(x)\n",
        " x = Conv2D(filters = 64,kernel_size = (3,3),padding =\"same\",activation = \"relu\")(x)\n",
        " x = MaxPooling2D(name = \"block2_pool\")(x)\n",
        "\n",
        " x = Conv2D(filters = 128,kernel_size = (3,3),padding =\"same\",activation = \"relu\")(x)\n",
        " x = Conv2D(filters = 128,kernel_size = (3,3),padding =\"same\",activation = \"relu\")(x)\n",
        " x = MaxPooling2D(name = \"block3_pool\")(x)\n",
        "\n",
        " x = Conv2D(filters = 256,kernel_size = (3,3),padding =\"same\",activation = \"relu\")(x)\n",
        " x = Conv2D(filters = 256,kernel_size = (3,3),padding =\"same\",activation = \"relu\")(x)\n",
        " x = MaxPooling2D(name = \"block4_pool\")(x)\n",
        "\n",
        " x = Conv2D(filters = 512,kernel_size = (3,3),padding =\"same\",activation = \"relu\")(x)\n",
        " x = Conv2D(filters = 512,kernel_size = (3,3),padding =\"same\",activation = \"relu\")(x)\n",
        " x = MaxPooling2D(name = \"block5_pool\")(x)\n",
        "\n",
        " x = Flatten()(x)\n",
        "\n",
        " x = Dense(4096, activation = \"relu\",name = 'fc1')(x)\n",
        "\n",
        " outputs = Dense(1000,activation = 'sigmoid',name = 'predictions')(x)\n",
        "\n",
        " model = Model(inputs,outputs,name = 'Customize_vgg')\n",
        " model.summary()\n",
        " return model"
      ],
      "metadata": {
        "id": "Xr7UC0wqK7FB"
      },
      "execution_count": 16,
      "outputs": []
    },
    {
      "cell_type": "code",
      "source": [
        "custom_model = custom_vgg_model()"
      ],
      "metadata": {
        "colab": {
          "base_uri": "https://localhost:8080/"
        },
        "id": "6lOGS5MULVoe",
        "outputId": "3942969c-4424-4c3b-c4aa-7ea62df12c6f"
      },
      "execution_count": 17,
      "outputs": [
        {
          "output_type": "stream",
          "name": "stdout",
          "text": [
            "Model: \"Customize_vgg\"\n",
            "_________________________________________________________________\n",
            " Layer (type)                Output Shape              Param #   \n",
            "=================================================================\n",
            " input_9 (InputLayer)        [(None, 224, 224, 3)]     0         \n",
            "                                                                 \n",
            " conv2d_10 (Conv2D)          (None, 224, 224, 32)      896       \n",
            "                                                                 \n",
            " conv2d_11 (Conv2D)          (None, 224, 224, 32)      9248      \n",
            "                                                                 \n",
            " block1_pool (MaxPooling2D)  (None, 112, 112, 32)      0         \n",
            "                                                                 \n",
            " conv2d_12 (Conv2D)          (None, 112, 112, 64)      18496     \n",
            "                                                                 \n",
            " conv2d_13 (Conv2D)          (None, 112, 112, 64)      36928     \n",
            "                                                                 \n",
            " block2_pool (MaxPooling2D)  (None, 56, 56, 64)        0         \n",
            "                                                                 \n",
            " conv2d_14 (Conv2D)          (None, 56, 56, 128)       73856     \n",
            "                                                                 \n",
            " conv2d_15 (Conv2D)          (None, 56, 56, 128)       147584    \n",
            "                                                                 \n",
            " block3_pool (MaxPooling2D)  (None, 28, 28, 128)       0         \n",
            "                                                                 \n",
            " conv2d_16 (Conv2D)          (None, 28, 28, 256)       295168    \n",
            "                                                                 \n",
            " conv2d_17 (Conv2D)          (None, 28, 28, 256)       590080    \n",
            "                                                                 \n",
            " block4_pool (MaxPooling2D)  (None, 14, 14, 256)       0         \n",
            "                                                                 \n",
            " conv2d_18 (Conv2D)          (None, 14, 14, 512)       1180160   \n",
            "                                                                 \n",
            " conv2d_19 (Conv2D)          (None, 14, 14, 512)       2359808   \n",
            "                                                                 \n",
            " block5_pool (MaxPooling2D)  (None, 7, 7, 512)         0         \n",
            "                                                                 \n",
            " flatten_4 (Flatten)         (None, 25088)             0         \n",
            "                                                                 \n",
            " fc1 (Dense)                 (None, 4096)              102764544 \n",
            "                                                                 \n",
            " predictions (Dense)         (None, 1000)              4097000   \n",
            "                                                                 \n",
            "=================================================================\n",
            "Total params: 111573768 (425.62 MB)\n",
            "Trainable params: 111573768 (425.62 MB)\n",
            "Non-trainable params: 0 (0.00 Byte)\n",
            "_________________________________________________________________\n"
          ]
        }
      ]
    }
  ]
}